{
 "cells": [
  {
   "cell_type": "markdown",
   "metadata": {},
   "source": [
    "## Summary\n",
    "\n",
    "1. Exploratory analysis performed on train data. Ratings have balanced distribution in dataset.\n",
    "2. train and dev data datasets are corrected by removing bad entry and chaging datatype of rating respectively.\n",
    "3. Review text was cleaned and transformed into TF-IDF vector features to be used for modelling.\n",
    "\n",
    "### Base line model -    Logistic Regression (Multinomial)\n",
    "\n",
    "###  Results with selection of different parameters:\n",
    "                                                                Accuracy score\n",
    "                                                             Train           Dev\n",
    "     1. Logistic Regression with ngrams range(1,1),C=1         .85             .76     (selected)\n",
    "     2. Logistic Regression with ngrams range (1,2),C=1        .73             .69\n",
    "     3. Logistic Regression with ngrams range(1,1),C=5         .92             .76\n",
    "     \n",
    "     where C=inverse of regularization strength\n",
    "\n",
    "* From above 3 results, logistic regression model with n gram range  (1,1),C=1  give more generalized results.  \n",
    "* Model witn ngram range(1,1), C=5 captures more variance from the  train data  but it seems to be bit overfitting as there is no improvement in the dev accuracy result\n",
    "\n"
   ]
  },
  {
   "cell_type": "code",
   "execution_count": 1,
   "metadata": {},
   "outputs": [],
   "source": [
    "import pre_process_text as pt               # import the script for preprocessing the text\n",
    "\n",
    "import pandas as pd \n",
    "import numpy as np\n",
    "import string\n",
    "\n",
    "from sklearn.feature_extraction.text import TfidfVectorizer, CountVectorizer,  TfidfTransformer\n",
    "from sklearn.metrics import accuracy_score, classification_report\n",
    "from sklearn.linear_model import LogisticRegression\n",
    "from sklearn.naive_bayes import MultinomialNB\n",
    "from sklearn.pipeline import Pipeline\n",
    "\n",
    "\n",
    "import matplotlib.pyplot as plt\n",
    "import seaborn as sns\n",
    "import pickle\n",
    "%matplotlib inline"
   ]
  },
  {
   "cell_type": "code",
   "execution_count": 2,
   "metadata": {},
   "outputs": [],
   "source": [
    "\n",
    "#read the input files for train and dev\n",
    "train= pd.read_csv(\"../data/sentiment_dataset_train.csv\")\n",
    "dev=pd.read_csv(\"../data/sentiment_dataset_dev.csv\")"
   ]
  },
  {
   "cell_type": "markdown",
   "metadata": {},
   "source": [
    "## Exploratory analysis"
   ]
  },
  {
   "cell_type": "code",
   "execution_count": 3,
   "metadata": {},
   "outputs": [
    {
     "data": {
      "text/plain": [
       "(35005, 3)"
      ]
     },
     "execution_count": 3,
     "metadata": {},
     "output_type": "execute_result"
    }
   ],
   "source": [
    "#check the six=ze and dimension of input data\n",
    "train.shape"
   ]
  },
  {
   "cell_type": "code",
   "execution_count": 4,
   "metadata": {},
   "outputs": [
    {
     "data": {
      "text/html": [
       "<div>\n",
       "<style scoped>\n",
       "    .dataframe tbody tr th:only-of-type {\n",
       "        vertical-align: middle;\n",
       "    }\n",
       "\n",
       "    .dataframe tbody tr th {\n",
       "        vertical-align: top;\n",
       "    }\n",
       "\n",
       "    .dataframe thead th {\n",
       "        text-align: right;\n",
       "    }\n",
       "</style>\n",
       "<table border=\"1\" class=\"dataframe\">\n",
       "  <thead>\n",
       "    <tr style=\"text-align: right;\">\n",
       "      <th></th>\n",
       "      <th>id</th>\n",
       "      <th>review</th>\n",
       "      <th>rating</th>\n",
       "    </tr>\n",
       "  </thead>\n",
       "  <tbody>\n",
       "    <tr>\n",
       "      <th>0</th>\n",
       "      <td>0</td>\n",
       "      <td>Arrived about 10pm and check in was painless. ...</td>\n",
       "      <td>4</td>\n",
       "    </tr>\n",
       "    <tr>\n",
       "      <th>1</th>\n",
       "      <td>1</td>\n",
       "      <td>I checked in at 4pm even tough room was not re...</td>\n",
       "      <td>2</td>\n",
       "    </tr>\n",
       "    <tr>\n",
       "      <th>2</th>\n",
       "      <td>2</td>\n",
       "      <td>I chose this hotel, as it was in a good locati...</td>\n",
       "      <td>2</td>\n",
       "    </tr>\n",
       "    <tr>\n",
       "      <th>3</th>\n",
       "      <td>3</td>\n",
       "      <td>Great location, super close to shops &amp; a 10min...</td>\n",
       "      <td>4</td>\n",
       "    </tr>\n",
       "    <tr>\n",
       "      <th>4</th>\n",
       "      <td>4</td>\n",
       "      <td>I was in the Sir Adam Hotel to visit a friend....</td>\n",
       "      <td>3</td>\n",
       "    </tr>\n",
       "  </tbody>\n",
       "</table>\n",
       "</div>"
      ],
      "text/plain": [
       "   id                                             review rating\n",
       "0   0  Arrived about 10pm and check in was painless. ...      4\n",
       "1   1  I checked in at 4pm even tough room was not re...      2\n",
       "2   2  I chose this hotel, as it was in a good locati...      2\n",
       "3   3  Great location, super close to shops & a 10min...      4\n",
       "4   4  I was in the Sir Adam Hotel to visit a friend....      3"
      ]
     },
     "execution_count": 4,
     "metadata": {},
     "output_type": "execute_result"
    }
   ],
   "source": [
    "train.head()"
   ]
  },
  {
   "cell_type": "code",
   "execution_count": 5,
   "metadata": {},
   "outputs": [
    {
     "data": {
      "text/plain": [
       "array(['4', '2', '3', '1', '5',\n",
       "       'Tables not made up prior to guest seating. 2.'], dtype=object)"
      ]
     },
     "execution_count": 5,
     "metadata": {},
     "output_type": "execute_result"
    }
   ],
   "source": [
    "# check the distribution of ratings in data set\n",
    "train['rating'].unique()"
   ]
  },
  {
   "cell_type": "markdown",
   "metadata": {},
   "source": [
    "#### Train data has one bad entry which needs to be removed"
   ]
  },
  {
   "cell_type": "code",
   "execution_count": 6,
   "metadata": {},
   "outputs": [],
   "source": [
    "#remove the bad entries where rating is not in [1,2,3,4,5]\n",
    "train=train.loc[train['rating'].isin(['1','2','3','4','5'])].reset_index(drop=True)"
   ]
  },
  {
   "cell_type": "code",
   "execution_count": 7,
   "metadata": {},
   "outputs": [
    {
     "data": {
      "text/plain": [
       "Text(0, 0.5, 'No. of Reviews')"
      ]
     },
     "execution_count": 7,
     "metadata": {},
     "output_type": "execute_result"
    },
    {
     "data": {
      "image/png": "[encoded data removed]",
      "text/plain": [
       "<Figure size 432x288 with 1 Axes>"
      ]
     },
     "metadata": {
      "needs_background": "light"
     },
     "output_type": "display_data"
    }
   ],
   "source": [
    "#analysing the distribution of rating in train data\n",
    "label=['1','2','3','4','5']\n",
    "train['rating'].value_counts().reindex(label).plot.bar(title= 'Distribution of Reviews in Rating Categories\\n')\n",
    "plt.xlabel(\"Rating\")\n",
    "plt.ylabel(\"No. of Reviews\")\n"
   ]
  },
  {
   "cell_type": "markdown",
   "metadata": {},
   "source": [
    "### The distribution of sentiment ratings is balanced in train data  which is  is good for data analysis and modelling"
   ]
  },
  {
   "cell_type": "code",
   "execution_count": 8,
   "metadata": {},
   "outputs": [
    {
     "name": "stdout",
     "output_type": "stream",
     "text": [
      "<class 'pandas.core.frame.DataFrame'>\n",
      "RangeIndex: 7499 entries, 0 to 7498\n",
      "Data columns (total 3 columns):\n",
      " #   Column  Non-Null Count  Dtype \n",
      "---  ------  --------------  ----- \n",
      " 0   id      7499 non-null   int64 \n",
      " 1   review  7499 non-null   object\n",
      " 2   rating  7499 non-null   int64 \n",
      "dtypes: int64(2), object(1)\n",
      "memory usage: 175.9+ KB\n"
     ]
    }
   ],
   "source": [
    "#dev data information\n",
    "dev.info()"
   ]
  },
  {
   "cell_type": "code",
   "execution_count": 9,
   "metadata": {},
   "outputs": [],
   "source": [
    "# converting the datatype of raiting in dev data same as in train data\n",
    "dev['rating']=dev['rating'].astype('str')"
   ]
  },
  {
   "cell_type": "markdown",
   "metadata": {},
   "source": [
    "### Analysing the revielw length in different catgories of rating"
   ]
  },
  {
   "cell_type": "code",
   "execution_count": 10,
   "metadata": {},
   "outputs": [
    {
     "data": {
      "text/plain": [
       "<seaborn.axisgrid.FacetGrid at 0x7fe7a4c29110>"
      ]
     },
     "execution_count": 10,
     "metadata": {},
     "output_type": "execute_result"
    },
    {
     "data": {
      "image/png": "[encoded data removed]",
      "text/plain": [
       "<Figure size 1080x216 with 5 Axes>"
      ]
     },
     "metadata": {
      "needs_background": "light"
     },
     "output_type": "display_data"
    }
   ],
   "source": [
    "train['review_length'] = train['review'].apply(len)\n",
    "g = sns.FacetGrid(data=train, col='rating',col_order=label)\n",
    "g.map(plt.hist, 'review_length', bins=50, color='#28546E')\n"
   ]
  },
  {
   "cell_type": "markdown",
   "metadata": {},
   "source": [
    "#### Rating 1,2,3 have higher number of long reviews and rating 2 has highest number of long reviews"
   ]
  },
  {
   "cell_type": "code",
   "execution_count": 11,
   "metadata": {},
   "outputs": [
    {
     "data": {
      "text/plain": [
       "<matplotlib.axes._subplots.AxesSubplot at 0x7fe7a5b2ea10>"
      ]
     },
     "execution_count": 11,
     "metadata": {},
     "output_type": "execute_result"
    },
    {
     "data": {
      "image/png": "[encoded data removed]",
      "text/plain": [
       "<Figure size 432x288 with 1 Axes>"
      ]
     },
     "metadata": {
      "needs_background": "light"
     },
     "output_type": "display_data"
    }
   ],
   "source": [
    " sns.boxplot(x='rating', y='review_length', data=train, palette=sns.cubehelix_palette(9, start=.4, rot=-.70, reverse=True, light=0.85, dark=0.25))"
   ]
  },
  {
   "cell_type": "markdown",
   "metadata": {},
   "source": [
    "#### rating 1 and 2 have really long reviews and seems to be having outliers in terms of text length"
   ]
  },
  {
   "cell_type": "markdown",
   "metadata": {},
   "source": [
    "### Text preprocessing"
   ]
  },
  {
   "cell_type": "code",
   "execution_count": 12,
   "metadata": {},
   "outputs": [],
   "source": [
    "# Reviews are clean_reviewed from bad symbols, punctuation, numbers, spaces\n",
    "train['clean_review']=train['review'].apply(lambda x: pt.clean_text(x))\n",
    "dev['clean_review']=dev['review'].apply(lambda x: pt.clean_text(x))\n",
    "\n",
    "\n",
    "#stopwords removal and stemming  is performed\n",
    "train['clean_review']=pt.pre_process(train['clean_review'])\n",
    "dev['clean_review']=pt.pre_process(dev['clean_review'])"
   ]
  },
  {
   "cell_type": "markdown",
   "metadata": {},
   "source": [
    "## Modeling- Logistic regression model is investigated with different parameters"
   ]
  },
  {
   "cell_type": "markdown",
   "metadata": {},
   "source": [
    "### Logistic Regression -Multinomial with  ngram range (1,1)"
   ]
  },
  {
   "cell_type": "code",
   "execution_count": 13,
   "metadata": {},
   "outputs": [
    {
     "name": "stdout",
     "output_type": "stream",
     "text": [
      "############### MODEL EVALUATION ####################\n",
      "train accuracy =  0.85 \n",
      "dev accuracy = 0.76\n",
      "\n",
      "Training classification Report\n",
      "\n",
      "               precision    recall  f1-score   support\n",
      "\n",
      "           1       0.87      0.91      0.89      7028\n",
      "           2       0.83      0.83      0.83      7031\n",
      "           3       0.84      0.84      0.84      6971\n",
      "           4       0.82      0.84      0.83      6997\n",
      "           5       0.90      0.85      0.88      6977\n",
      "\n",
      "    accuracy                           0.85     35004\n",
      "   macro avg       0.85      0.85      0.85     35004\n",
      "weighted avg       0.85      0.85      0.85     35004\n",
      "\n",
      "\n",
      "Dev classification Report\n",
      "\n",
      "               precision    recall  f1-score   support\n",
      "\n",
      "           1       0.79      0.84      0.81      1523\n",
      "           2       0.71      0.70      0.71      1507\n",
      "           3       0.73      0.75      0.74      1483\n",
      "           4       0.75      0.74      0.74      1500\n",
      "           5       0.84      0.79      0.81      1486\n",
      "\n",
      "    accuracy                           0.76      7499\n",
      "   macro avg       0.76      0.76      0.76      7499\n",
      "weighted avg       0.76      0.76      0.76      7499\n",
      "\n"
     ]
    }
   ],
   "source": [
    "lg = Pipeline([('vect', CountVectorizer()),\n",
    "               ('tfidf', TfidfTransformer()),\n",
    "               ('lg',LogisticRegression( C=1, multi_class='multinomial',max_iter=1000,solver='saga',random_state=0))\n",
    "              ])\n",
    "lg.fit(train['clean_review'], train['rating'])\n",
    "\n",
    "my_tags=['1','2','3','4','5']\n",
    "\n",
    "#  predict rating\n",
    "train['pred_rating'] = lg.predict(train['clean_review'])\n",
    "dev['pred_rating'] = lg.predict(dev['clean_review'])\n",
    "\n",
    "print(\"############### MODEL EVALUATION ####################\")\n",
    "\n",
    "print('train accuracy =  %s ' % round(accuracy_score(train['pred_rating'], train['rating']),2))\n",
    "print('dev accuracy = %s' % round(accuracy_score(dev['pred_rating'], dev['rating']),2))\n",
    "print( \"\\nTraining classification Report\\n\\n\",classification_report(train['rating'], train['pred_rating'],target_names=my_tags))\n",
    "print( \"\\nDev classification Report\\n\\n\",classification_report(dev['rating'], dev['pred_rating'],target_names=my_tags))"
   ]
  },
  {
   "cell_type": "markdown",
   "metadata": {},
   "source": [
    "### Logistic Regression - Mutlinomial with  ngram range (1,2)"
   ]
  },
  {
   "cell_type": "code",
   "execution_count": 14,
   "metadata": {},
   "outputs": [
    {
     "name": "stdout",
     "output_type": "stream",
     "text": [
      "############### MODEL EVALUATION ####################\n",
      "train accuracy =  0.73 \n",
      "dev accuracy = 0.69\n",
      "\n",
      "Training classification Report\n",
      "\n",
      "               precision    recall  f1-score   support\n",
      "\n",
      "           1       0.76      0.81      0.79      7028\n",
      "           2       0.66      0.65      0.66      7031\n",
      "           3       0.70      0.68      0.69      6971\n",
      "           4       0.70      0.71      0.71      6997\n",
      "           5       0.82      0.77      0.79      6977\n",
      "\n",
      "    accuracy                           0.73     35004\n",
      "   macro avg       0.73      0.73      0.73     35004\n",
      "weighted avg       0.73      0.73      0.73     35004\n",
      "\n",
      "\n",
      "Dev classification Report\n",
      "\n",
      "               precision    recall  f1-score   support\n",
      "\n",
      "           1       0.73      0.78      0.75      1523\n",
      "           2       0.61      0.60      0.60      1507\n",
      "           3       0.66      0.66      0.66      1483\n",
      "           4       0.68      0.70      0.69      1500\n",
      "           5       0.80      0.74      0.77      1486\n",
      "\n",
      "    accuracy                           0.69      7499\n",
      "   macro avg       0.69      0.69      0.69      7499\n",
      "weighted avg       0.69      0.69      0.69      7499\n",
      "\n"
     ]
    }
   ],
   "source": [
    "# train pipeline transforms reviews to TF-IDF vectors and then fir the model\n",
    "\n",
    "lg1 = Pipeline([('vect', CountVectorizer(analyzer='word', token_pattern=r'\\w{1,}', ngram_range=(1,2),max_features=800)),\n",
    "               ('tfidf', TfidfTransformer()),\n",
    "               ('lg',LogisticRegression( C=1, multi_class='multinomial',max_iter=1000,solver='saga',random_state=0))\n",
    "              ])\n",
    "lg1.fit(train['clean_review'], train['rating'])\n",
    "\n",
    "my_tags=['1','2','3','4','5']\n",
    "\n",
    "#  predict rating\n",
    "train['pred_rating1'] = lg1.predict(train['clean_review'])\n",
    "dev['pred_rating1'] = lg1.predict(dev['clean_review'])\n",
    "\n",
    "print(\"############### MODEL EVALUATION ####################\")\n",
    "\n",
    "print('train accuracy =  %s ' % round(accuracy_score(train['pred_rating1'], train['rating']),2))\n",
    "print('dev accuracy = %s' % round(accuracy_score(dev['pred_rating1'], dev['rating']),2))\n",
    "print( \"\\nTraining classification Report\\n\\n\",classification_report(train['rating'], train['pred_rating1'],target_names=my_tags))\n",
    "print( \"\\nDev classification Report\\n\\n\",classification_report(dev['rating'], dev['pred_rating1'],target_names=my_tags))"
   ]
  },
  {
   "cell_type": "markdown",
   "metadata": {},
   "source": [
    "### Logistic model with ngram range (1,1) and C=5"
   ]
  },
  {
   "cell_type": "code",
   "execution_count": 15,
   "metadata": {},
   "outputs": [
    {
     "name": "stdout",
     "output_type": "stream",
     "text": [
      "############### MODEL EVALUATION ####################\n",
      "train accuracy =  0.92 \n",
      "dev accuracy = 0.76\n",
      "\n",
      "Training classification Report\n",
      "\n",
      "               precision    recall  f1-score   support\n",
      "\n",
      "           1       0.93      0.95      0.94      7028\n",
      "           2       0.92      0.91      0.91      7031\n",
      "           3       0.92      0.92      0.92      6971\n",
      "           4       0.90      0.92      0.91      6997\n",
      "           5       0.95      0.92      0.94      6977\n",
      "\n",
      "    accuracy                           0.92     35004\n",
      "   macro avg       0.92      0.92      0.92     35004\n",
      "weighted avg       0.92      0.92      0.92     35004\n",
      "\n",
      "\n",
      "Dev classification Report\n",
      "\n",
      "               precision    recall  f1-score   support\n",
      "\n",
      "           1       0.80      0.83      0.82      1523\n",
      "           2       0.71      0.71      0.71      1507\n",
      "           3       0.73      0.75      0.74      1483\n",
      "           4       0.74      0.73      0.74      1500\n",
      "           5       0.84      0.79      0.82      1486\n",
      "\n",
      "    accuracy                           0.76      7499\n",
      "   macro avg       0.76      0.76      0.76      7499\n",
      "weighted avg       0.76      0.76      0.76      7499\n",
      "\n"
     ]
    }
   ],
   "source": [
    "lg2 = Pipeline([('vect', CountVectorizer()),\n",
    "               ('tfidf', TfidfTransformer()),\n",
    "               ('lg',LogisticRegression( C=5, multi_class='multinomial',max_iter=1000,solver='saga',random_state=0))\n",
    "              ])\n",
    "lg2.fit(train['clean_review'], train['rating'])\n",
    "\n",
    "my_tags=['1','2','3','4','5']\n",
    "\n",
    "#  predict rating\n",
    "train['pred_rating2'] = lg2.predict(train['clean_review'])\n",
    "dev['pred_rating2'] = lg2.predict(dev['clean_review'])\n",
    "\n",
    "print(\"############### MODEL EVALUATION ####################\")\n",
    "\n",
    "print('train accuracy =  %s ' % round(accuracy_score(train['pred_rating2'], train['rating']),2))\n",
    "print('dev accuracy = %s' % round(accuracy_score(dev['pred_rating2'], dev['rating']),2))\n",
    "print( \"\\nTraining classification Report\\n\\n\",classification_report(train['rating'], train['pred_rating2'],target_names=my_tags))\n",
    "print( \"\\nDev classification Report\\n\\n\",classification_report(dev['rating'], dev['pred_rating2'],target_names=my_tags))"
   ]
  },
  {
   "cell_type": "markdown",
   "metadata": {},
   "source": [
    "### NOTE\n",
    "* logistic regression model n grams (1,1),C=1  gives more generalised results in terms of accuracy and classification results.\n",
    "* Model witn ngrams(1,1),C=5 captures more variance(92%) from the train data but it seems to be bit overfitting as there is no improvement in the dev accuracy result."
   ]
  },
  {
   "cell_type": "markdown",
   "metadata": {},
   "source": [
    "### Saving results  and predictions for best performing model\n",
    "#### Logistic regression with ngram range(1,1) and C=1"
   ]
  },
  {
   "cell_type": "code",
   "execution_count": 19,
   "metadata": {},
   "outputs": [],
   "source": [
    "#saving the train classification report\n",
    "eval_report=classification_report(train['rating'], train['pred_rating'],target_names=my_tags,output_dict=True)\n",
    "eval_t=pd.DataFrame(eval_report).transpose().reset_index()\n",
    "eval_t.rename(columns={'index':'label'},inplace=True)\n",
    "eval_t.to_csv(\"../results/eval_report/lg_train_classific_report_final.csv\",index=False)\n",
    "\n",
    "#saving dev evaluation report\n",
    "eval_report=classification_report(dev['rating'], dev['pred_rating'],target_names=my_tags,output_dict=True)\n",
    "eval_d=pd.DataFrame(eval_report).transpose().reset_index()\n",
    "eval_d.rename(columns={'index':'label'},inplace=True)\n",
    "eval_d.to_csv(\"../results/eval_report/lg_dev_classific_report_final.csv\",index=False)\n",
    "\n",
    "\n",
    "#make predictions and save the file\n",
    "dev['pred_rating']=lg.predict(dev['clean_review'])\n",
    "dev[['id','pred_rating']].to_csv('../results/prediction/logistic_dev_prediction_final.csv',index=False)\n",
    "\n",
    "## Save the model\n",
    "pickle.dump(lg, open(\"../results/model_param/logistic_model_final.sav\", 'wb'))\n"
   ]
  },
  {
   "cell_type": "code",
   "execution_count": null,
   "metadata": {},
   "outputs": [],
   "source": []
  }
 ],
 "metadata": {
  "kernelspec": {
   "display_name": "Python 3",
   "language": "python",
   "name": "python3"
  },
  "language_info": {
   "codemirror_mode": {
    "name": "ipython",
    "version": 3
   },
   "file_extension": ".py",
   "mimetype": "text/x-python",
   "name": "python",
   "nbconvert_exporter": "python",
   "pygments_lexer": "ipython3",
   "version": "3.7.6"
  }
 },
 "nbformat": 4,
 "nbformat_minor": 4
}

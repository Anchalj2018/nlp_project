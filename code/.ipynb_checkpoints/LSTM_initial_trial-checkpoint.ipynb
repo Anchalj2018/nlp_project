{
 "cells": [
  {
   "cell_type": "code",
   "execution_count": 1,
   "metadata": {},
   "outputs": [],
   "source": [
    "import pre_process_text as pt\n",
    "import numpy as np\n",
    "import pandas as pd\n",
    "import string\n",
    "from sklearn.metrics import accuracy_score, classification_report\n",
    "\n",
    "import tensorflow as tf\n",
    "tf.random.set_seed(2)\n",
    "\n",
    "from keras.preprocessing.text import Tokenizer\n",
    "from keras.preprocessing.sequence import pad_sequences\n",
    "from keras import Sequential\n",
    "from keras.layers import Embedding, LSTM, Dense, Dropout\n",
    "from keras.layers.embeddings import Embedding\n",
    "from keras.preprocessing import sequence\n",
    "from keras.callbacks import ModelCheckpoint\n",
    "import pickle \n",
    "import h5py\n",
    "import matplotlib.pyplot as plt\n",
    "%matplotlib inline"
   ]
  },
  {
   "cell_type": "code",
   "execution_count": 2,
   "metadata": {},
   "outputs": [],
   "source": [
    "#read the input files for train and dev\n",
    "train= pd.read_csv(\"../data/sentiment_dataset_train.csv\")\n",
    "dev=pd.read_csv(\"../data/sentiment_dataset_dev.csv\")"
   ]
  },
  {
   "cell_type": "code",
   "execution_count": 3,
   "metadata": {},
   "outputs": [],
   "source": [
    "#remove the bad entries where rating is not in ['1','2','3','4','5']\n",
    "train=train.loc[train['rating'].isin(['1','2','3','4','5'])].reset_index(drop=True)"
   ]
  },
  {
   "cell_type": "code",
   "execution_count": 4,
   "metadata": {},
   "outputs": [],
   "source": [
    "# changing the data type of dev rating to str in consistent with datatype of rating in train data\n",
    "dev['rating']=dev['rating'].astype('str')"
   ]
  },
  {
   "cell_type": "markdown",
   "metadata": {},
   "source": [
    "### Text preprocessing"
   ]
  },
  {
   "cell_type": "code",
   "execution_count": 5,
   "metadata": {},
   "outputs": [],
   "source": [
    "#remove the undesired symbols and spaces\n",
    "train['clean']=train['review'].apply(lambda x: pt.clean_text(x))\n",
    "dev['clean']=dev['review'].apply(lambda x: pt.clean_text(x))\n"
   ]
  },
  {
   "cell_type": "code",
   "execution_count": 6,
   "metadata": {},
   "outputs": [
    {
     "name": "stdout",
     "output_type": "stream",
     "text": [
      "Found 42379 unique tokens.\n"
     ]
    }
   ],
   "source": [
    "# The maximum number of words to be used. \n",
    "max_words = 50000\n",
    "\n",
    "# Tokenize the text\n",
    "tokenizer = Tokenizer(num_words=max_words, filters='!\"#$%&()*+,-./:;<=>?@[\\]^_`{|}~', lower=True)\n",
    "tokenizer.fit_on_texts(train['clean'].values)\n",
    "\n",
    "word_index = tokenizer.word_index\n",
    "print('Found %s unique tokens.' % len(word_index))"
   ]
  },
  {
   "cell_type": "code",
   "execution_count": 7,
   "metadata": {},
   "outputs": [],
   "source": [
    "# convert to tokenized sequence\n",
    "train_X = tokenizer.texts_to_sequences(train['clean'].values)\n",
    "dev_X=tokenizer.texts_to_sequences(dev['clean'].values)"
   ]
  },
  {
   "cell_type": "code",
   "execution_count": 8,
   "metadata": {},
   "outputs": [
    {
     "name": "stdout",
     "output_type": "stream",
     "text": [
      "Shape of train tensor: (35004, 500)\n",
      "Shape of dev tensor: (7499, 500)\n"
     ]
    }
   ],
   "source": [
    "# Max number of words in each review\n",
    "max_seq_len = 500\n",
    "\n",
    "# pad the shorter sequences  so that all sequences have same length\n",
    "train_X = pad_sequences(train_X, maxlen=max_seq_len)\n",
    "dev_X=pad_sequences(dev_X, maxlen=max_seq_len)\n",
    "\n",
    "print('Shape of train tensor:', train_X.shape)\n",
    "print('Shape of dev tensor:', dev_X.shape)"
   ]
  },
  {
   "cell_type": "code",
   "execution_count": 9,
   "metadata": {},
   "outputs": [
    {
     "name": "stdout",
     "output_type": "stream",
     "text": [
      "Shape of train label tensor: (35004, 5)\n",
      "Shape of dev label tensor: (7499, 5)\n"
     ]
    }
   ],
   "source": [
    "#transform the sentiment ratings into a format suitable for feeding into the LSTM \n",
    "train_Y = pd.get_dummies(train['rating']).values\n",
    "dev_Y=pd.get_dummies(dev['rating']).values\n",
    "print('Shape of train label tensor:', train_Y.shape)\n",
    "print('Shape of dev label tensor:', dev_Y.shape)\n"
   ]
  },
  {
   "cell_type": "code",
   "execution_count": 10,
   "metadata": {},
   "outputs": [],
   "source": [
    "# #saving parameters and tokenizer  to be used for test data\n",
    "# with open('../results/model_param/tokenizer_data_initial.pkl', 'wb') as handle:\n",
    "#     pickle.dump(\n",
    "#         {'tokenizer': tokenizer, 'num_words':max_words, 'maxlen':max_seq_len}, handle)"
   ]
  },
  {
   "cell_type": "markdown",
   "metadata": {},
   "source": [
    "## LSTM Model"
   ]
  },
  {
   "cell_type": "code",
   "execution_count": 14,
   "metadata": {
    "scrolled": false
   },
   "outputs": [
    {
     "name": "stdout",
     "output_type": "stream",
     "text": [
      "Model: \"sequential_1\"\n",
      "_________________________________________________________________\n",
      "Layer (type)                 Output Shape              Param #   \n",
      "=================================================================\n",
      "embedding_1 (Embedding)      (None, 500, 64)           3200000   \n",
      "_________________________________________________________________\n",
      "lstm_1 (LSTM)                (None, 200)               212000    \n",
      "_________________________________________________________________\n",
      "dense_1 (Dense)              (None, 5)                 1005      \n",
      "=================================================================\n",
      "Total params: 3,413,005\n",
      "Trainable params: 3,413,005\n",
      "Non-trainable params: 0\n",
      "_________________________________________________________________\n",
      "None\n",
      "Epoch 1/5\n",
      "985/985 [==============================] - ETA: 0s - loss: 1.1187 - accuracy: 0.4837\n",
      "Epoch 00001: val_accuracy improved from -inf to 0.58669, saving model to results/model_param/lstm_weights_best1.h5\n",
      "985/985 [==============================] - 3917s 4s/step - loss: 1.1187 - accuracy: 0.4837 - val_loss: 0.9127 - val_accuracy: 0.5867\n",
      "Epoch 2/5\n",
      "985/985 [==============================] - ETA: 0s - loss: 0.7768 - accuracy: 0.6644\n",
      "Epoch 00002: val_accuracy improved from 0.58669 to 0.65553, saving model to results/model_param/lstm_weights_best1.h5\n",
      "985/985 [==============================] - 3928s 4s/step - loss: 0.7768 - accuracy: 0.6644 - val_loss: 0.7891 - val_accuracy: 0.6555\n",
      "Epoch 3/5\n",
      "985/985 [==============================] - ETA: 0s - loss: 0.5765 - accuracy: 0.7698\n",
      "Epoch 00003: val_accuracy improved from 0.65553 to 0.68523, saving model to results/model_param/lstm_weights_best1.h5\n",
      "985/985 [==============================] - 3906s 4s/step - loss: 0.5765 - accuracy: 0.7698 - val_loss: 0.7467 - val_accuracy: 0.6852\n",
      "Epoch 4/5\n",
      "985/985 [==============================] - ETA: 0s - loss: 0.4224 - accuracy: 0.8396\n",
      "Epoch 00004: val_accuracy improved from 0.68523 to 0.73379, saving model to results/model_param/lstm_weights_best1.h5\n",
      "985/985 [==============================] - 4013s 4s/step - loss: 0.4224 - accuracy: 0.8396 - val_loss: 0.7035 - val_accuracy: 0.7338\n",
      "Epoch 5/5\n",
      "985/985 [==============================] - ETA: 0s - loss: 0.3109 - accuracy: 0.8859\n",
      "Epoch 00005: val_accuracy improved from 0.73379 to 0.73836, saving model to results/model_param/lstm_weights_best1.h5\n",
      "985/985 [==============================] - 3910s 4s/step - loss: 0.3109 - accuracy: 0.8859 - val_loss: 0.7237 - val_accuracy: 0.7384\n"
     ]
    }
   ],
   "source": [
    "EMBEDDING_DIM=64\n",
    "epochs = 5\n",
    "batch_size = 32\n",
    "\n",
    "#weights of model are saved in an epoch if the accuracy is improved \n",
    "#folder path to save the weights for the best performing model. \n",
    "filepath=\"../results/model_param/lstm_weights_best_initial.h5\"\n",
    "\n",
    "\n",
    "\n",
    "model = Sequential()\n",
    "model.add(Embedding(max_words, EMBEDDING_DIM, input_length=train_X.shape[1]))\n",
    "model.add(LSTM(200, dropout=0.2, recurrent_dropout=0.2))\n",
    "model.add(Dense(5, activation='softmax'))\n",
    "model.compile(loss='categorical_crossentropy', optimizer='adam', metrics=['accuracy'])\n",
    "print(model.summary())\n",
    "\n",
    "checkpoint = ModelCheckpoint(filepath, monitor='val_accuracy', verbose=1, save_best_only=True, mode='max',save_weights_only=True)\n",
    "callbacks_list = [checkpoint]\n",
    "\n",
    "history=model.fit(train_X,train_Y,validation_split=.1, epochs=epochs, batch_size=batch_size,verbose = 1,callbacks = callbacks_list)\n"
   ]
  },
  {
   "cell_type": "code",
   "execution_count": 15,
   "metadata": {},
   "outputs": [],
   "source": [
    "## Reconstruct the model with best weights \n",
    "\n",
    "model2 = Sequential()\n",
    "model2.add(Embedding(max_words, EMBEDDING_DIM, input_length=train_X.shape[1]))\n",
    "model2.add(LSTM(200, dropout=0.2, recurrent_dropout=0.2))\n",
    "model2.add(Dense(5, activation='softmax'))\n",
    "model2.compile(loss='categorical_crossentropy', optimizer='adam', metrics=['accuracy'])\n",
    "\n",
    "#load weights\n",
    "model2.load_weights(filepath)\n",
    "model2.compile(loss='categorical_crossentropy', optimizer='adam', metrics=['accuracy'])"
   ]
  },
  {
   "cell_type": "markdown",
   "metadata": {},
   "source": [
    "### Evaluation"
   ]
  },
  {
   "cell_type": "code",
   "execution_count": 16,
   "metadata": {},
   "outputs": [
    {
     "name": "stdout",
     "output_type": "stream",
     "text": [
      "Train Accuracy:  0.916609525680542\n",
      "Dev Accuracy:  0.7368982434272766\n"
     ]
    }
   ],
   "source": [
    "train_scores = model2.evaluate(train_X, train_Y, verbose=False)\n",
    "dev_scores = model2.evaluate(dev_X,dev_Y, verbose=False)\n",
    "print(\"Train Accuracy: \",train_scores[1])\n",
    "print(\"Dev Accuracy: \",dev_scores[1])"
   ]
  },
  {
   "cell_type": "code",
   "execution_count": 18,
   "metadata": {},
   "outputs": [
    {
     "data": {
      "image/png": "[encoded data removed]",
      "text/plain": [
       "<Figure size 432x288 with 1 Axes>"
      ]
     },
     "metadata": {
      "needs_background": "light"
     },
     "output_type": "display_data"
    }
   ],
   "source": [
    "#Accuracy plot\n",
    "plt.title('Accuracy')\n",
    "plt.plot(history.history['accuracy'], label='train')\n",
    "plt.plot(history.history['val_accuracy'], label='test')\n",
    "plt.legend()\n",
    "plt.xlabel('epochs')\n",
    "plt.savefig(\"../results/eval_report/lstm_accuracy_initial.png\")\n",
    "plt.show();"
   ]
  },
  {
   "cell_type": "code",
   "execution_count": 22,
   "metadata": {},
   "outputs": [
    {
     "data": {
      "image/png": "[encoded data removed]",
      "text/plain": [
       "<Figure size 432x288 with 1 Axes>"
      ]
     },
     "metadata": {
      "needs_background": "light"
     },
     "output_type": "display_data"
    }
   ],
   "source": [
    "#loss plot\n",
    "plt.title('Loss')\n",
    "plt.plot(history.history['loss'], label='train')\n",
    "plt.plot(history.history['val_loss'], label='test')\n",
    "plt.legend()\n",
    "plt.xlabel('epochs')\n",
    "plt.show();"
   ]
  },
  {
   "cell_type": "markdown",
   "metadata": {},
   "source": [
    "### plot shows that model is slightly overfitting"
   ]
  },
  {
   "cell_type": "code",
   "execution_count": 23,
   "metadata": {},
   "outputs": [
    {
     "name": "stdout",
     "output_type": "stream",
     "text": [
      "\n",
      "Training classification Report\n",
      "\n",
      "               precision    recall  f1-score   support\n",
      "\n",
      "           1       0.95      0.95      0.95      7028\n",
      "           2       0.91      0.92      0.91      7031\n",
      "           3       0.92      0.91      0.92      6971\n",
      "           4       0.91      0.86      0.89      6997\n",
      "           5       0.90      0.94      0.92      6977\n",
      "\n",
      "    accuracy                           0.92     35004\n",
      "   macro avg       0.92      0.92      0.92     35004\n",
      "weighted avg       0.92      0.92      0.92     35004\n",
      "\n",
      "\n",
      "Dev classification Report\n",
      "\n",
      "               precision    recall  f1-score   support\n",
      "\n",
      "           1       0.80      0.80      0.80      1523\n",
      "           2       0.67      0.67      0.67      1507\n",
      "           3       0.71      0.72      0.71      1483\n",
      "           4       0.73      0.68      0.70      1500\n",
      "           5       0.79      0.82      0.80      1486\n",
      "\n",
      "    accuracy                           0.74      7499\n",
      "   macro avg       0.74      0.74      0.74      7499\n",
      "weighted avg       0.74      0.74      0.74      7499\n",
      "\n"
     ]
    }
   ],
   "source": [
    "\n",
    "#make predictions\n",
    "labels=['1','2','3','4','5']\n",
    "dev_pred=model2.predict(dev_X)\n",
    "train_pred=model2.predict(train_X)\n",
    "\n",
    "#getting the preicted rating\n",
    "train['pred_rating']=[labels[l] for l in  np.argmax(train_pred,axis=1)]\n",
    "dev['pred_rating']=[labels[l] for l in  np.argmax(dev_pred,axis=1)]\n",
    "\n",
    "print( \"\\nTraining classification Report\\n\\n\",classification_report(train['rating'], train['pred_rating'],target_names=labels))\n",
    "\n",
    "print( \"\\nDev classification Report\\n\\n\",classification_report(dev['rating'], dev['pred_rating'],target_names=labels))"
   ]
  },
  {
   "cell_type": "markdown",
   "metadata": {},
   "source": [
    "### NOTE : Since this model is not selected, results and model are not saved . To save the results, please uncomment the following cell"
   ]
  },
  {
   "cell_type": "code",
   "execution_count": 24,
   "metadata": {},
   "outputs": [],
   "source": [
    "# #saving the train classification report\n",
    "# eval_report=classification_report(train['rating'], train['pred_rating'],target_names=labels,output_dict=True)\n",
    "# eval_t=pd.DataFrame(eval_report).transpose().reset_index()\n",
    "# eval_t.rename(columns={'index':'label'},inplace=True)\n",
    "# eval_t.to_csv(\"../results/eval_report/lstm_train_classific_report_initial.csv\",index=False)\n",
    "\n",
    "# #saving dev evaluation report\n",
    "# eval_report=classification_report(dev['rating'], dev['pred_rating'],target_names=labels,output_dict=True)\n",
    "# eval_d=pd.DataFrame(eval_report).transpose().reset_index()\n",
    "# eval_d.rename(columns={'index':'label'},inplace=True)\n",
    "# eval_d.to_csv(\"../results/eval_report/lstm_dev_classific_report_initial.csv\",index=False)\n",
    "\n",
    "# #save dev predictions \n",
    "# dev[['id','pred_rating']].to_csv(\"../results/prediction/lstm_dev_prediction_initial.csv\",index=False)\n",
    "\n",
    "# #save the model\n",
    "# model2.save('../results/model_param/lstm_model_initial.h5')"
   ]
  },
  {
   "cell_type": "code",
   "execution_count": null,
   "metadata": {},
   "outputs": [],
   "source": []
  }
 ],
 "metadata": {
  "kernelspec": {
   "display_name": "Python 3",
   "language": "python",
   "name": "python3"
  },
  "language_info": {
   "codemirror_mode": {
    "name": "ipython",
    "version": 3
   },
   "file_extension": ".py",
   "mimetype": "text/x-python",
   "name": "python",
   "nbconvert_exporter": "python",
   "pygments_lexer": "ipython3",
   "version": "3.7.6"
  }
 },
 "nbformat": 4,
 "nbformat_minor": 4
}
